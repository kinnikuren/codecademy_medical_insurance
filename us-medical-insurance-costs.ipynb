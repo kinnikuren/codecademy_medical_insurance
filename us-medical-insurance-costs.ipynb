{
 "cells": [
  {
   "cell_type": "markdown",
   "metadata": {},
   "source": [
    "# U.S. Medical Insurance Costs"
   ]
  },
  {
   "cell_type": "code",
   "execution_count": 2,
   "metadata": {},
   "outputs": [],
   "source": [
    "import csv"
   ]
  },
  {
   "cell_type": "code",
   "execution_count": 77,
   "metadata": {},
   "outputs": [],
   "source": [
    "age = []\n",
    "sex = []\n",
    "bmi = []\n",
    "children = []\n",
    "has_children = []\n",
    "smoker = []\n",
    "region = []\n",
    "charges = []\n",
    "\n",
    "with open('insurance.csv') as insurance_csv:\n",
    "    insurance_dict = csv.DictReader(insurance_csv)\n",
    "    for row in insurance_dict:\n",
    "        age.append(int(row[\"age\"]))\n",
    "        sex.append(row[\"sex\"])\n",
    "        bmi.append(float(row[\"bmi\"]))\n",
    "        children.append(int(row[\"children\"]))\n",
    "        if row[\"children\"] == '0':\n",
    "            has_children.append(False)\n",
    "        else:\n",
    "            has_children.append(True)\n",
    "        if row[\"smoker\"] == \"yes\":\n",
    "            smoker.append(True)\n",
    "        else:\n",
    "            smoker.append(False)\n",
    "        region.append(row[\"region\"])\n",
    "        charges.append(float(row[\"charges\"]))\n",
    "\n",
    "#print(charges)\n"
   ]
  },
  {
   "cell_type": "code",
   "execution_count": 19,
   "metadata": {},
   "outputs": [],
   "source": [
    "def calculate_average(data_list):\n",
    "    return sum(data_list)/len(data_list)"
   ]
  },
  {
   "cell_type": "code",
   "execution_count": 55,
   "metadata": {},
   "outputs": [],
   "source": [
    "def construct_dict(data_list):\n",
    "    new_dict = {}\n",
    "    for item in data_list:\n",
    "        if item not in new_dict:\n",
    "            new_dict[item] = 1\n",
    "        else:\n",
    "            new_dict[item] += 1\n",
    "    \n",
    "    return new_dict"
   ]
  },
  {
   "cell_type": "code",
   "execution_count": 71,
   "metadata": {},
   "outputs": [],
   "source": [
    "def percentage_dict(count_dict):\n",
    "    percentage_dict = {}\n",
    "    total_count = sum(count_dict.values())\n",
    "    #print(total_count)\n",
    "    for key, value in count_dict.items():\n",
    "        percentage_dict[key] = value / total_count\n",
    "    \n",
    "    return percentage_dict"
   ]
  },
  {
   "cell_type": "code",
   "execution_count": 86,
   "metadata": {},
   "outputs": [],
   "source": [
    "def two_col_dict(list_one, list_two):\n",
    "    new_dict = {}\n",
    "    for a, b in zip(list_one, list_two):\n",
    "        if a not in new_dict:\n",
    "            new_dict[a] = [b]\n",
    "        else:\n",
    "            new_dict[a].append(b)\n",
    "    \n",
    "    return new_dict\n",
    "            "
   ]
  },
  {
   "cell_type": "code",
   "execution_count": 92,
   "metadata": {},
   "outputs": [],
   "source": [
    "def average_charges_breakdown(col_charges_dict):\n",
    "    for key, value in col_charges_dict.items():\n",
    "        print(\"{}: ${}\".format(key, calculate_average(value)))"
   ]
  },
  {
   "cell_type": "code",
   "execution_count": 61,
   "metadata": {},
   "outputs": [
    {
     "name": "stdout",
     "output_type": "stream",
     "text": [
      "Total number of rows is 1338\n"
     ]
    }
   ],
   "source": [
    "#Data overview\n",
    "\n",
    "print(\"Total number of rows is {}\".format(len(age)))"
   ]
  },
  {
   "cell_type": "code",
   "execution_count": 32,
   "metadata": {},
   "outputs": [
    {
     "name": "stdout",
     "output_type": "stream",
     "text": [
      "Average age is 39.20702541106129\n"
     ]
    }
   ],
   "source": [
    "#Age analysis\n",
    "\n",
    "#print(age)\n",
    "#print(type(age[0]))\n",
    "\n",
    "average_age = calculate_average(age)\n",
    "print(\"Average age is {}\".format(average_age))"
   ]
  },
  {
   "cell_type": "code",
   "execution_count": 31,
   "metadata": {},
   "outputs": [
    {
     "name": "stdout",
     "output_type": "stream",
     "text": [
      "Average BMI is 30.663396860986538\n"
     ]
    }
   ],
   "source": [
    "#BMI analysis\n",
    "\n",
    "average_bmi = calculate_average(bmi)\n",
    "print(\"Average BMI is {}\".format(average_bmi))"
   ]
  },
  {
   "cell_type": "code",
   "execution_count": 96,
   "metadata": {},
   "outputs": [
    {
     "name": "stdout",
     "output_type": "stream",
     "text": [
      "Average # of children is 1.0949177877429\n",
      "{False: 574, True: 764}\n",
      "{False: 0.4289985052316891, True: 0.5710014947683109}\n",
      "Average charges according to number of children:\n",
      "0: $12365.975601635882\n",
      "1: $12731.171831635793\n",
      "3: $15355.31836681528\n",
      "2: $15073.563733958328\n",
      "5: $8786.035247222222\n",
      "4: $13850.656311199999\n",
      "Average charges, no children vs. having children:\n",
      "False: $12365.975601635882\n",
      "True: $13949.94109348167\n"
     ]
    }
   ],
   "source": [
    "#Children analysis\n",
    "\n",
    "average_children = calculate_average(children)\n",
    "print(\"Average # of children is {}\".format(average_children))\n",
    "\n",
    "children_dict = construct_dict(has_children)\n",
    "print(children_dict)\n",
    "print(percentage_dict(children_dict))\n",
    "\n",
    "children_charges_dict = two_col_dict(children, charges)\n",
    "#print(children_charges_dict)\n",
    "\n",
    "print(\"Average charges according to number of children:\")\n",
    "average_charges_breakdown(children_charges_dict)\n",
    "print(\"Average charges, no children vs. having children:\")\n",
    "average_charges_breakdown(two_col_dict(has_children, charges))\n"
   ]
  },
  {
   "cell_type": "code",
   "execution_count": 37,
   "metadata": {
    "scrolled": true
   },
   "outputs": [
    {
     "name": "stdout",
     "output_type": "stream",
     "text": [
      "Average charges are $13270.42\n"
     ]
    }
   ],
   "source": [
    "#Charges analysis\n",
    "\n",
    "average_charges = calculate_average(charges)\n",
    "print(\"Average charges are ${}\".format(round(average_charges,2)))"
   ]
  },
  {
   "cell_type": "code",
   "execution_count": 72,
   "metadata": {},
   "outputs": [
    {
     "name": "stdout",
     "output_type": "stream",
     "text": [
      "Sex breakdown:\n",
      "{'female': 662, 'male': 676}\n",
      "{'female': 0.4947683109118087, 'male': 0.5052316890881914}\n"
     ]
    }
   ],
   "source": [
    "#Sex breakdown\n",
    "\n",
    "sex_dict = construct_dict(sex)\n",
    "print(\"Sex breakdown:\")\n",
    "print(sex_dict)\n",
    "\n",
    "print(percentage_dict(sex_dict))\n"
   ]
  },
  {
   "cell_type": "code",
   "execution_count": 74,
   "metadata": {},
   "outputs": [
    {
     "name": "stdout",
     "output_type": "stream",
     "text": [
      "Smoker breakdown:\n",
      "{True: 274, False: 1064}\n",
      "{True: 0.20478325859491778, False: 0.7952167414050823}\n",
      "Average charges for smokers: $32050.23183153285\n",
      "Average charges for non-smokers: $8434.268297856199\n"
     ]
    }
   ],
   "source": [
    "#Smoker analysis\n",
    "\n",
    "smoker_dict = construct_dict(smoker)\n",
    "print(\"Smoker breakdown:\")\n",
    "print(smoker_dict)\n",
    "print(percentage_dict(smoker_dict))\n",
    "\n",
    "smoker_charges = [charge for is_smoker, charge in zip(smoker, charges) if is_smoker]\n",
    "nonsmoker_charges = [charge for is_smoker, charge in zip(smoker, charges) if not is_smoker]\n",
    "\n",
    "print(\"Average charges for smokers: ${}\".format(calculate_average(smoker_charges)))\n",
    "print(\"Average charges for non-smokers: ${}\".format(calculate_average(nonsmoker_charges)))"
   ]
  },
  {
   "cell_type": "code",
   "execution_count": 91,
   "metadata": {},
   "outputs": [
    {
     "name": "stdout",
     "output_type": "stream",
     "text": [
      "Region breakdown:\n",
      "{'southwest': 325, 'southeast': 364, 'northwest': 325, 'northeast': 324}\n",
      "{'southwest': 0.2428998505231689, 'southeast': 0.27204783258594917, 'northwest': 0.2428998505231689, 'northeast': 0.242152466367713}\n",
      "Average charges by region:\n",
      "southwest: $12346.93737729231\n",
      "southeast: $14735.411437609895\n",
      "northwest: $12417.575373969228\n",
      "northeast: $13406.3845163858\n"
     ]
    }
   ],
   "source": [
    "#Region analysis\n",
    "\n",
    "region_dict = construct_dict(region)\n",
    "print(\"Region breakdown:\")\n",
    "print(region_dict)\n",
    "print(percentage_dict(region_dict))\n",
    "\n",
    "\n",
    "print(\"Average charges by region:\")\n",
    "region_charges_dict = two_col_dict(region, charges)\n",
    "\n",
    "#print(region_charges_dict)\n",
    "average_charges_breakdown(region_charges_dict)\n"
   ]
  }
 ],
 "metadata": {
  "kernelspec": {
   "display_name": "Python 3",
   "language": "python",
   "name": "python3"
  },
  "language_info": {
   "codemirror_mode": {
    "name": "ipython",
    "version": 3
   },
   "file_extension": ".py",
   "mimetype": "text/x-python",
   "name": "python",
   "nbconvert_exporter": "python",
   "pygments_lexer": "ipython3",
   "version": "3.7.6"
  }
 },
 "nbformat": 4,
 "nbformat_minor": 4
}
